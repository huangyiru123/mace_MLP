{
 "cells": [
  {
   "cell_type": "code",
   "execution_count": 5,
   "id": "f4d4dcb8-d3bd-421e-9a26-30dc5f6266b0",
   "metadata": {},
   "outputs": [
    {
     "name": "stdout",
     "output_type": "stream",
     "text": [
      "加载了 120 组原子结构\n",
      "训练集: 84 组, 验证集: 18 组, 测试集: 18 组\n"
     ]
    }
   ],
   "source": [
    "from ase.io import read\n",
    "from sklearn.model_selection import train_test_split\n",
    "\n",
    "# 读取 cp2k.extxyz 文件\n",
    "all_data = read(\"cp2k_sampled.extxyz@\", index=\":\")  # 读取整个数据集\n",
    "print(f\"加载了 {len(all_data)} 组原子结构\")\n",
    "\n",
    "# 70% 作为训练集，15% 作为验证集，15% 作为测试集\n",
    "train_data, temp_data = train_test_split(all_data, test_size=0.3, random_state=42)  # 70%训练，30% 临时\n",
    "valid_data, test_data = train_test_split(temp_data, test_size=0.5, random_state=42)  # 临时数据的50%作为测试集，50%作为验证集\n",
    "\n",
    "print(f\"训练集: {len(train_data)} 组, 验证集: {len(valid_data)} 组, 测试集: {len(test_data)} 组\")\n",
    "\n",
    "# 可以将数据集保存到不同的文件中（可选）\n",
    "from ase.io import write\n",
    "\n",
    "write('train.extxyz', train_data)\n",
    "write('valid.extxyz', valid_data)\n",
    "write('test.extxyz', test_data)\n",
    "\n"
   ]
  },
  {
   "cell_type": "code",
   "execution_count": null,
   "id": "446dee98-98f5-42b6-984f-b5c5f381a06f",
   "metadata": {},
   "outputs": [],
   "source": []
  },
  {
   "cell_type": "code",
   "execution_count": null,
   "id": "41985aea-207d-4ef2-80c3-639c3192a07e",
   "metadata": {},
   "outputs": [],
   "source": []
  }
 ],
 "metadata": {
  "kernelspec": {
   "display_name": "mace_env",
   "language": "python",
   "name": "mace_env"
  },
  "language_info": {
   "codemirror_mode": {
    "name": "ipython",
    "version": 3
   },
   "file_extension": ".py",
   "mimetype": "text/x-python",
   "name": "python",
   "nbconvert_exporter": "python",
   "pygments_lexer": "ipython3",
   "version": "3.9.21"
  }
 },
 "nbformat": 4,
 "nbformat_minor": 5
}
