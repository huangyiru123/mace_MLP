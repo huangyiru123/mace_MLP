{
 "cells": [
  {
   "cell_type": "code",
   "execution_count": null,
   "id": "7ea4726b-0a39-4356-a7e3-baac074b639d",
   "metadata": {
    "tags": []
   },
   "outputs": [
    {
     "name": "stdout",
     "output_type": "stream",
     "text": [
      "使用的 GPU 设备: 1\n"
     ]
    }
   ],
   "source": [
    "import os\n",
    "import subprocess\n",
    "\n",
    "# 设置 GPU\n",
    "os.environ[\"CUDA_VISIBLE_DEVICES\"] = \"1\"\n",
    "print(f\"使用的 GPU 设备: {os.environ['CUDA_VISIBLE_DEVICES']}\")\n",
    "\n",
    "# 创建日志和检查点目录\n",
    "os.makedirs(\"logs\", exist_ok=True)\n",
    "os.makedirs(\"checkpoints\", exist_ok=True)\n",
    "\n",
    "# 构建命令\n",
    "cmd = [\n",
    "    \"mace_run_train\",\n",
    "    \"--name\", \"llto_simple_model\",\n",
    "    \"--model\", \"MACE\",\n",
    "    \"--train_file\", \"llto_conservative-train.extxyz\",\n",
    "    \"--valid_file\", \"llto_conservative-valid.extxyz\",\n",
    "    \"--test_file\", \"llto_conservative-test.extxyz\",\n",
    "    \"--E0s\", \"average\",\n",
    "    \"--loss\", \"universal\",\n",
    "    \"--energy_weight\", \"10\",\n",
    "    \"--forces_weight\", \"500\",\n",
    "    \"--energy_key\", \"REF_energy\",\n",
    "    \"--forces_key\", \"REF_forces\",\n",
    "    \"--eval_interval\", \"1\",\n",
    "    \"--error_table\", \"PerAtomMAE\",\n",
    "    \"--interaction_first\", \"RealAgnosticDensityInteractionBlock\",\n",
    "    \"--interaction\", \"RealAgnosticDensityResidualInteractionBlock\",\n",
    "    \"--num_interactions\", \"4\",\n",
    "    \"--correlation\", \"3\",\n",
    "    \"--max_ell\", \"3\",\n",
    "    \"--r_max\", \"5.0\",\n",
    "    \"--max_L\", \"2\",\n",
    "    \"--num_channels\", \"256\",\n",
    "    \"--num_radial_basis\", \"8\",\n",
    "    \"--MLP_irreps\", \"16x0e\",\n",
    "    \"--scaling\", \"rms_forces_scaling\",\n",
    "    \"--lr\", \"0.001\",\n",
    "    \"--weight_decay\", \"1e-8\",\n",
    "    \"--ema\",\n",
    "    \"--ema_decay\", \"0.99\",\n",
    "    \"--scheduler_patience\", \"5\",\n",
    "    \"--batch_size\", \"8\",\n",
    "    \"--valid_batch_size\", \"8\",\n",
    "    \"--pair_repulsion\",\n",
    "    \"--distance_transform\", \"Agnesi\",\n",
    "    \"--max_num_epochs\", \"1600\",\n",
    "    \"--patience\", \"200\",\n",
    "    \"--amsgrad\",\n",
    "    \"--device\", \"cuda\",\n",
    "    \"--clip_grad\", \"10\",\n",
    "    \"--restart_latest\",\n",
    "    \"--default_dtype\", \"float64\",\n",
    "    \"--seed\", \"42\"\n",
    "]\n",
    "\n",
    "# 运行训练\n",
    "process = subprocess.Popen(cmd, stdout=subprocess.PIPE, stderr=subprocess.PIPE)\n",
    "stdout, stderr = process.communicate()\n",
    "\n",
    "# 打印输出\n",
    "print(stdout.decode())\n",
    "if stderr:\n",
    "    print(\"错误信息:\")\n",
    "    print(stderr.decode())"
   ]
  },
  {
   "cell_type": "code",
   "execution_count": null,
   "id": "c280fefc-583e-4ba2-b5ed-50d76e27a5fd",
   "metadata": {},
   "outputs": [],
   "source": []
  }
 ],
 "metadata": {
  "kernelspec": {
   "display_name": "Python 3 (ipykernel)",
   "language": "python",
   "name": "python3"
  },
  "language_info": {
   "codemirror_mode": {
    "name": "ipython",
    "version": 3
   },
   "file_extension": ".py",
   "mimetype": "text/x-python",
   "name": "python",
   "nbconvert_exporter": "python",
   "pygments_lexer": "ipython3",
   "version": "3.11.0"
  }
 },
 "nbformat": 4,
 "nbformat_minor": 5
}
